{
 "cells": [
  {
   "cell_type": "code",
   "execution_count": 374,
   "metadata": {},
   "outputs": [],
   "source": [
    "import numpy as np\n",
    "import matplotlib as mp\n",
    "import matplotlib.pyplot as plt\n",
    "import pandas as pd\n",
    "import scipy as sp \n",
    "import scipy.stats as stat\n",
    "import math\n",
    "from sklearn.cluster import KMeans\n",
    "from sklearn.metrics import mean_absolute_percentage_error,mean_absolute_error,r2_score"
   ]
  },
  {
   "cell_type": "code",
   "execution_count": 375,
   "metadata": {},
   "outputs": [
    {
     "data": {
      "text/html": [
       "<div>\n",
       "<style scoped>\n",
       "    .dataframe tbody tr th:only-of-type {\n",
       "        vertical-align: middle;\n",
       "    }\n",
       "\n",
       "    .dataframe tbody tr th {\n",
       "        vertical-align: top;\n",
       "    }\n",
       "\n",
       "    .dataframe thead th {\n",
       "        text-align: right;\n",
       "    }\n",
       "</style>\n",
       "<table border=\"1\" class=\"dataframe\">\n",
       "  <thead>\n",
       "    <tr style=\"text-align: right;\">\n",
       "      <th></th>\n",
       "      <th>game_id</th>\n",
       "      <th>p1_id</th>\n",
       "      <th>p2_id</th>\n",
       "      <th>p1_action</th>\n",
       "      <th>p2_action</th>\n",
       "      <th>turn</th>\n",
       "    </tr>\n",
       "  </thead>\n",
       "  <tbody>\n",
       "    <tr>\n",
       "      <th>0</th>\n",
       "      <td>0</td>\n",
       "      <td>174</td>\n",
       "      <td>125</td>\n",
       "      <td>1</td>\n",
       "      <td>0</td>\n",
       "      <td>1</td>\n",
       "    </tr>\n",
       "    <tr>\n",
       "      <th>1</th>\n",
       "      <td>0</td>\n",
       "      <td>174</td>\n",
       "      <td>125</td>\n",
       "      <td>0</td>\n",
       "      <td>1</td>\n",
       "      <td>2</td>\n",
       "    </tr>\n",
       "    <tr>\n",
       "      <th>2</th>\n",
       "      <td>0</td>\n",
       "      <td>174</td>\n",
       "      <td>125</td>\n",
       "      <td>1</td>\n",
       "      <td>1</td>\n",
       "      <td>3</td>\n",
       "    </tr>\n",
       "    <tr>\n",
       "      <th>3</th>\n",
       "      <td>0</td>\n",
       "      <td>174</td>\n",
       "      <td>125</td>\n",
       "      <td>1</td>\n",
       "      <td>1</td>\n",
       "      <td>4</td>\n",
       "    </tr>\n",
       "    <tr>\n",
       "      <th>4</th>\n",
       "      <td>0</td>\n",
       "      <td>174</td>\n",
       "      <td>125</td>\n",
       "      <td>1</td>\n",
       "      <td>1</td>\n",
       "      <td>5</td>\n",
       "    </tr>\n",
       "  </tbody>\n",
       "</table>\n",
       "</div>"
      ],
      "text/plain": [
       "   game_id  p1_id  p2_id  p1_action  p2_action  turn\n",
       "0        0    174    125          1          0     1\n",
       "1        0    174    125          0          1     2\n",
       "2        0    174    125          1          1     3\n",
       "3        0    174    125          1          1     4\n",
       "4        0    174    125          1          1     5"
      ]
     },
     "metadata": {},
     "output_type": "display_data"
    },
    {
     "name": "stdout",
     "output_type": "stream",
     "text": [
      "(180406, 6)\n"
     ]
    }
   ],
   "source": [
    "dataset = pd.read_csv('input_game.csv')\n",
    "dataset['p1_action'].replace(['TRUST','CHEAT'],[1,0],inplace=True)\n",
    "dataset['p2_action'].replace(['TRUST','CHEAT'],[1,0],inplace=True)\n",
    "display(dataset.head())\n",
    "print(dataset.shape)"
   ]
  },
  {
   "cell_type": "code",
   "execution_count": 376,
   "metadata": {},
   "outputs": [
    {
     "name": "stdout",
     "output_type": "stream",
     "text": [
      "[[  0 174 125   1   1   3]\n",
      " [  0 174 125   1   1   4]\n",
      " [  0 174 125   1   1   5]\n",
      " [  0 174 125   1   1   6]]\n"
     ]
    }
   ],
   "source": [
    "data_np = (dataset.iloc[1:,:]).to_numpy()\n",
    "print(data_np[1:5,:])\n"
   ]
  },
  {
   "cell_type": "code",
   "execution_count": 377,
   "metadata": {},
   "outputs": [],
   "source": [
    "player_data = []\n",
    "for i in range(202):\n",
    "    player_data.append([])"
   ]
  },
  {
   "cell_type": "code",
   "execution_count": 378,
   "metadata": {},
   "outputs": [],
   "source": [
    "curr=-1\n",
    "p1=0;p2=0\n",
    "prev=[]\n",
    "num_row = data_np.shape[0]\n",
    "for i in range(num_row):\n",
    "    data = data_np[i]\n",
    "    if data[0]!=curr:\n",
    "        curr=data[0]; p1=data[1]; p2=data[2]\n",
    "        player_data[p1].append([0,0,0,0,0,0,0,0,0,0]); player_data[p2].append([0,0,0,0,0,0,0,0,0,0])\n",
    "        player_data[p1][-1][0] = i; player_data[p2][-1][0] = i\n",
    "        player_data[p1][-1][1]=p2; player_data[p2][-1][1]=p1\n",
    "        player_data[p1][-1][2]=data[3]; player_data[p1][-1][3]=data[4]\n",
    "        player_data[p2][-1][2]=data[4]; player_data[p2][-1][3]=data[3]\n",
    "        player_data[p1][-1][4]+=1; player_data[p2][-1][4]+=1\n",
    "        \n",
    "    else:\n",
    "        if prev[4]==1 and data[3]==1:\n",
    "            player_data[p1][-1][5]+=1\n",
    "        elif prev[4]==0 and data[3]==1:\n",
    "            player_data[p1][-1][6]+=1\n",
    "        elif prev[4]==0 and data[3]==0:\n",
    "            player_data[p1][-1][7]+=1\n",
    "        elif prev[4]==1 and data[3]==0:\n",
    "            player_data[p1][-1][8]+=1\n",
    "        else:\n",
    "            {}\n",
    "            \n",
    "            \n",
    "        if prev[3]==1 and data[4]==1:\n",
    "            player_data[p2][-1][5]+=1\n",
    "        elif prev[3]==0 and data[4]==1:\n",
    "            player_data[p2][-1][6]+=1\n",
    "        elif prev[3]==0 and data[4]==0:\n",
    "            player_data[p2][-1][7]+=1\n",
    "        elif prev[3]==1 and data[4]==0:\n",
    "            player_data[p2][-1][8]+=1\n",
    "        else:\n",
    "            {}\n",
    "            \n",
    "        player_data[p1][-1][4]+=1; player_data[p2][-1][4]+=1\n",
    "            \n",
    "    prev=data"
   ]
  },
  {
   "cell_type": "code",
   "execution_count": 379,
   "metadata": {},
   "outputs": [
    {
     "name": "stdout",
     "output_type": "stream",
     "text": [
      "[[6888, 69, 1, 1, 61, 48, 7, 1, 4, 0], [8237, 199, 1, 1, 66, 63, 1, 0, 1, 0], [25916, 2, 1, 1, 53, 46, 2, 0, 4, 0], [27181, 194, 1, 1, 62, 57, 0, 0, 4, 0], [28115, 8, 1, 1, 61, 43, 14, 2, 1, 0], [29355, 118, 1, 1, 77, 64, 5, 2, 5, 0], [29759, 88, 1, 1, 73, 25, 6, 41, 0, 0], [32701, 37, 1, 1, 51, 45, 2, 1, 2, 0], [41021, 40, 1, 0, 78, 33, 20, 20, 4, 0], [48584, 160, 1, 1, 55, 34, 7, 12, 1, 0], [48816, 65, 1, 1, 66, 61, 2, 0, 2, 0], [49397, 102, 0, 1, 71, 33, 19, 14, 4, 0], [63631, 85, 1, 1, 72, 6, 9, 55, 1, 0], [79108, 10, 1, 0, 55, 26, 9, 15, 4, 0], [101952, 68, 1, 0, 63, 23, 13, 24, 2, 0], [110764, 170, 1, 1, 63, 29, 12, 20, 1, 0], [111894, 168, 1, 1, 61, 29, 1, 29, 1, 0], [123518, 7, 1, 0, 80, 67, 9, 0, 3, 0], [132989, 91, 1, 0, 40, 9, 5, 25, 0, 0], [140555, 58, 1, 1, 66, 49, 2, 12, 2, 0], [140745, 131, 1, 1, 70, 62, 1, 0, 6, 0], [141407, 84, 1, 0, 59, 24, 9, 25, 0, 0], [146328, 195, 1, 1, 42, 21, 9, 11, 0, 0], [147203, 43, 1, 0, 75, 46, 15, 6, 7, 0], [150711, 49, 1, 1, 79, 35, 20, 21, 2, 0], [151164, 190, 1, 1, 78, 66, 3, 2, 6, 0], [163177, 173, 1, 0, 62, 25, 10, 25, 1, 0], [165459, 187, 1, 0, 64, 22, 18, 23, 0, 0], [170250, 176, 1, 1, 79, 67, 8, 0, 3, 0], [173720, 22, 1, 1, 41, 38, 2, 0, 0, 0], [179734, 119, 1, 0, 65, 26, 10, 27, 1, 0], [180043, 100, 1, 1, 49, 46, 0, 0, 2, 0]]\n"
     ]
    }
   ],
   "source": [
    "print(player_data[3])"
   ]
  },
  {
   "cell_type": "code",
   "execution_count": 380,
   "metadata": {},
   "outputs": [
    {
     "name": "stdout",
     "output_type": "stream",
     "text": [
      "[[   0.    0.    0. ...    0.    0.    0.]\n",
      " [ 796.  306.  594. ...    0.    0.    0.]\n",
      " [1088.  245.  364. ...    0.    0.    0.]\n",
      " ...\n",
      " [1056.  282.  387. ...    0.    0.    0.]\n",
      " [ 686.   99.  766. ...    0.    0.    0.]\n",
      " [ 618.  277.  279. ...    0.    0.    0.]]\n"
     ]
    }
   ],
   "source": [
    "player_sum = np.zeros((202,10),dtype=float)\n",
    "for i in range(1,202):\n",
    "    for j in range(len(player_data[i])):\n",
    "        \n",
    "        if player_data[i][j][2]==0:\n",
    "            player_sum[i][4]+=1\n",
    "        else:\n",
    "            player_sum[i][5]+=1\n",
    "            \n",
    "        for k in range(4):\n",
    "            player_sum[i][k]+=player_data[i][j][5+k]\n",
    "            \n",
    "print(player_sum)"
   ]
  },
  {
   "cell_type": "code",
   "execution_count": 381,
   "metadata": {},
   "outputs": [],
   "source": [
    "for i in range(1,202):\n",
    "    num_a =0; den_a=1; num_b=0;  den_b=1; num_c=0; den_c=1; num_d=0; den_d=1; counter=0; prev = 0\n",
    "    for game in player_data[i]:\n",
    "        ind = game[0]\n",
    "        # ind = data_np[:0].searchsorted(game_num)\n",
    "        game_num=data_np[ind][0]\n",
    "        \n",
    "        p_ind=0\n",
    "        if data_np[ind][1]==i:\n",
    "            p_ind=3\n",
    "        else:\n",
    "            p_ind=4\n",
    "            \n",
    "        o_ind = 7-p_ind\n",
    "        \n",
    "            \n",
    "        p_act=data_np[ind][p_ind] ; o_act = data_np[ind][o_ind]\n",
    "        \n",
    "        round = ind\n",
    "        while data_np[round][0]==game_num:\n",
    "            new_p_act = data_np[round][p_ind]; new_o_act = data_np[round][o_ind]\n",
    "            \n",
    "            if o_act == 1 and new_p_act==1:\n",
    "                if prev==1:\n",
    "                    counter+=1\n",
    "                else:\n",
    "                    num_c+=counter; den_c+=1\n",
    "                    prev =1; counter=1\n",
    "                    \n",
    "            elif o_act==0 and new_p_act==1:\n",
    "                if prev==4:\n",
    "                    counter+=1\n",
    "                else:\n",
    "                    num_b+=counter; den_b+=1\n",
    "                    prev =4; counter=1\n",
    "                \n",
    "            elif o_act==1 and new_p_act==0:\n",
    "                if prev==3:\n",
    "                    counter+=1\n",
    "                else:\n",
    "                    num_a+=counter; den_a+=1\n",
    "                    prev =3; counter=1\n",
    "                \n",
    "            elif o_act==0 and new_p_act==0:\n",
    "                if prev==2:\n",
    "                    counter+=1\n",
    "                else:\n",
    "                    num_d+=counter; den_d+=1\n",
    "                    prev =2; counter=1\n",
    "            \n",
    "            \n",
    "            p_act = new_p_act; o_act=new_o_act\n",
    "            round+=1\n",
    "            \n",
    "            if round==num_row:\n",
    "                break\n",
    "            \n",
    "    player_sum[i][6]=num_a/den_a\n",
    "    player_sum[i][7]=num_b/den_b\n",
    "    player_sum[i][8]=num_c/den_c\n",
    "    player_sum[i][9]=num_d/den_d\n",
    "            \n",
    "        \n",
    "    "
   ]
  },
  {
   "cell_type": "code",
   "execution_count": 382,
   "metadata": {},
   "outputs": [
    {
     "name": "stdout",
     "output_type": "stream",
     "text": [
      "[[0.74184529 0.34       0.66       0.25815471 0.96875    0.03125\n",
      "  3.63636364 4.96969697 1.75524476 2.39655172]\n",
      " [0.95859031 0.40229885 0.59770115 0.04140969 0.1        0.9\n",
      "  5.22916667 3.65560166 1.81853282 1.25      ]\n",
      " [0.94485842 0.37707391 0.62292609 0.05514158 0.03125    0.96875\n",
      "  7.09589041 3.42436975 1.70967742 1.36363636]\n",
      " [0.04613095 0.04096639 0.95903361 0.95386905 0.93103448 0.06896552\n",
      "  2.37328767 6.         3.25       2.02287582]\n",
      " [0.57619048 0.53045923 0.46954077 0.42380952 0.96774194 0.03225806\n",
      "  2.3632287  3.63829787 2.75352113 2.37735849]]\n"
     ]
    }
   ],
   "source": [
    "for i in range(1,202):\n",
    "    vec = player_sum[i]\n",
    "    a=vec[0];b=vec[1];c=vec[2];d=vec[3]; e=vec[4];f=vec[5]\n",
    "    player_sum[i][0]=a/(a+d)\n",
    "    player_sum[i][3]=d/(a+d)\n",
    "    player_sum[i][1]=b/(b+c)\n",
    "    player_sum[i][2]=c/(b+c)\n",
    "    player_sum[i][4]=e/(e+f)\n",
    "    player_sum[i][5]=f/(e+f)\n",
    "    \n",
    "player_sum = player_sum[1:,:]\n",
    "print(player_sum[0:5])"
   ]
  },
  {
   "cell_type": "code",
   "execution_count": 383,
   "metadata": {},
   "outputs": [
    {
     "name": "stderr",
     "output_type": "stream",
     "text": [
      "/home/sarthak/miniconda3/envs/tf/lib/python3.9/site-packages/sklearn/cluster/_kmeans.py:1412: FutureWarning: The default value of `n_init` will change from 10 to 'auto' in 1.4. Set the value of `n_init` explicitly to suppress the warning\n",
      "  super()._check_params_vs_input(X, default_n_init=10)\n",
      "/home/sarthak/miniconda3/envs/tf/lib/python3.9/site-packages/sklearn/cluster/_kmeans.py:1412: FutureWarning: The default value of `n_init` will change from 10 to 'auto' in 1.4. Set the value of `n_init` explicitly to suppress the warning\n",
      "  super()._check_params_vs_input(X, default_n_init=10)\n",
      "/home/sarthak/miniconda3/envs/tf/lib/python3.9/site-packages/sklearn/cluster/_kmeans.py:1412: FutureWarning: The default value of `n_init` will change from 10 to 'auto' in 1.4. Set the value of `n_init` explicitly to suppress the warning\n",
      "  super()._check_params_vs_input(X, default_n_init=10)\n",
      "/home/sarthak/miniconda3/envs/tf/lib/python3.9/site-packages/sklearn/cluster/_kmeans.py:1412: FutureWarning: The default value of `n_init` will change from 10 to 'auto' in 1.4. Set the value of `n_init` explicitly to suppress the warning\n",
      "  super()._check_params_vs_input(X, default_n_init=10)\n",
      "/home/sarthak/miniconda3/envs/tf/lib/python3.9/site-packages/sklearn/cluster/_kmeans.py:1412: FutureWarning: The default value of `n_init` will change from 10 to 'auto' in 1.4. Set the value of `n_init` explicitly to suppress the warning\n",
      "  super()._check_params_vs_input(X, default_n_init=10)\n",
      "/home/sarthak/miniconda3/envs/tf/lib/python3.9/site-packages/sklearn/cluster/_kmeans.py:1412: FutureWarning: The default value of `n_init` will change from 10 to 'auto' in 1.4. Set the value of `n_init` explicitly to suppress the warning\n",
      "  super()._check_params_vs_input(X, default_n_init=10)\n",
      "/home/sarthak/miniconda3/envs/tf/lib/python3.9/site-packages/sklearn/cluster/_kmeans.py:1412: FutureWarning: The default value of `n_init` will change from 10 to 'auto' in 1.4. Set the value of `n_init` explicitly to suppress the warning\n",
      "  super()._check_params_vs_input(X, default_n_init=10)\n",
      "/home/sarthak/miniconda3/envs/tf/lib/python3.9/site-packages/sklearn/cluster/_kmeans.py:1412: FutureWarning: The default value of `n_init` will change from 10 to 'auto' in 1.4. Set the value of `n_init` explicitly to suppress the warning\n",
      "  super()._check_params_vs_input(X, default_n_init=10)\n",
      "/home/sarthak/miniconda3/envs/tf/lib/python3.9/site-packages/sklearn/cluster/_kmeans.py:1412: FutureWarning: The default value of `n_init` will change from 10 to 'auto' in 1.4. Set the value of `n_init` explicitly to suppress the warning\n",
      "  super()._check_params_vs_input(X, default_n_init=10)\n",
      "/home/sarthak/miniconda3/envs/tf/lib/python3.9/site-packages/sklearn/cluster/_kmeans.py:1412: FutureWarning: The default value of `n_init` will change from 10 to 'auto' in 1.4. Set the value of `n_init` explicitly to suppress the warning\n",
      "  super()._check_params_vs_input(X, default_n_init=10)\n",
      "/home/sarthak/miniconda3/envs/tf/lib/python3.9/site-packages/sklearn/cluster/_kmeans.py:1412: FutureWarning: The default value of `n_init` will change from 10 to 'auto' in 1.4. Set the value of `n_init` explicitly to suppress the warning\n",
      "  super()._check_params_vs_input(X, default_n_init=10)\n",
      "/home/sarthak/miniconda3/envs/tf/lib/python3.9/site-packages/sklearn/cluster/_kmeans.py:1412: FutureWarning: The default value of `n_init` will change from 10 to 'auto' in 1.4. Set the value of `n_init` explicitly to suppress the warning\n",
      "  super()._check_params_vs_input(X, default_n_init=10)\n",
      "/home/sarthak/miniconda3/envs/tf/lib/python3.9/site-packages/sklearn/cluster/_kmeans.py:1412: FutureWarning: The default value of `n_init` will change from 10 to 'auto' in 1.4. Set the value of `n_init` explicitly to suppress the warning\n",
      "  super()._check_params_vs_input(X, default_n_init=10)\n",
      "/home/sarthak/miniconda3/envs/tf/lib/python3.9/site-packages/sklearn/cluster/_kmeans.py:1412: FutureWarning: The default value of `n_init` will change from 10 to 'auto' in 1.4. Set the value of `n_init` explicitly to suppress the warning\n",
      "  super()._check_params_vs_input(X, default_n_init=10)\n",
      "/home/sarthak/miniconda3/envs/tf/lib/python3.9/site-packages/sklearn/cluster/_kmeans.py:1412: FutureWarning: The default value of `n_init` will change from 10 to 'auto' in 1.4. Set the value of `n_init` explicitly to suppress the warning\n",
      "  super()._check_params_vs_input(X, default_n_init=10)\n",
      "/home/sarthak/miniconda3/envs/tf/lib/python3.9/site-packages/sklearn/cluster/_kmeans.py:1412: FutureWarning: The default value of `n_init` will change from 10 to 'auto' in 1.4. Set the value of `n_init` explicitly to suppress the warning\n",
      "  super()._check_params_vs_input(X, default_n_init=10)\n",
      "/home/sarthak/miniconda3/envs/tf/lib/python3.9/site-packages/sklearn/cluster/_kmeans.py:1412: FutureWarning: The default value of `n_init` will change from 10 to 'auto' in 1.4. Set the value of `n_init` explicitly to suppress the warning\n",
      "  super()._check_params_vs_input(X, default_n_init=10)\n",
      "/home/sarthak/miniconda3/envs/tf/lib/python3.9/site-packages/sklearn/cluster/_kmeans.py:1412: FutureWarning: The default value of `n_init` will change from 10 to 'auto' in 1.4. Set the value of `n_init` explicitly to suppress the warning\n",
      "  super()._check_params_vs_input(X, default_n_init=10)\n",
      "/home/sarthak/miniconda3/envs/tf/lib/python3.9/site-packages/sklearn/cluster/_kmeans.py:1412: FutureWarning: The default value of `n_init` will change from 10 to 'auto' in 1.4. Set the value of `n_init` explicitly to suppress the warning\n",
      "  super()._check_params_vs_input(X, default_n_init=10)\n",
      "/home/sarthak/miniconda3/envs/tf/lib/python3.9/site-packages/sklearn/cluster/_kmeans.py:1412: FutureWarning: The default value of `n_init` will change from 10 to 'auto' in 1.4. Set the value of `n_init` explicitly to suppress the warning\n",
      "  super()._check_params_vs_input(X, default_n_init=10)\n",
      "/home/sarthak/miniconda3/envs/tf/lib/python3.9/site-packages/sklearn/cluster/_kmeans.py:1412: FutureWarning: The default value of `n_init` will change from 10 to 'auto' in 1.4. Set the value of `n_init` explicitly to suppress the warning\n",
      "  super()._check_params_vs_input(X, default_n_init=10)\n",
      "/home/sarthak/miniconda3/envs/tf/lib/python3.9/site-packages/sklearn/cluster/_kmeans.py:1412: FutureWarning: The default value of `n_init` will change from 10 to 'auto' in 1.4. Set the value of `n_init` explicitly to suppress the warning\n",
      "  super()._check_params_vs_input(X, default_n_init=10)\n",
      "/home/sarthak/miniconda3/envs/tf/lib/python3.9/site-packages/sklearn/cluster/_kmeans.py:1412: FutureWarning: The default value of `n_init` will change from 10 to 'auto' in 1.4. Set the value of `n_init` explicitly to suppress the warning\n",
      "  super()._check_params_vs_input(X, default_n_init=10)\n",
      "/home/sarthak/miniconda3/envs/tf/lib/python3.9/site-packages/sklearn/cluster/_kmeans.py:1412: FutureWarning: The default value of `n_init` will change from 10 to 'auto' in 1.4. Set the value of `n_init` explicitly to suppress the warning\n",
      "  super()._check_params_vs_input(X, default_n_init=10)\n",
      "/home/sarthak/miniconda3/envs/tf/lib/python3.9/site-packages/sklearn/cluster/_kmeans.py:1412: FutureWarning: The default value of `n_init` will change from 10 to 'auto' in 1.4. Set the value of `n_init` explicitly to suppress the warning\n",
      "  super()._check_params_vs_input(X, default_n_init=10)\n",
      "/home/sarthak/miniconda3/envs/tf/lib/python3.9/site-packages/sklearn/cluster/_kmeans.py:1412: FutureWarning: The default value of `n_init` will change from 10 to 'auto' in 1.4. Set the value of `n_init` explicitly to suppress the warning\n",
      "  super()._check_params_vs_input(X, default_n_init=10)\n",
      "/home/sarthak/miniconda3/envs/tf/lib/python3.9/site-packages/sklearn/cluster/_kmeans.py:1412: FutureWarning: The default value of `n_init` will change from 10 to 'auto' in 1.4. Set the value of `n_init` explicitly to suppress the warning\n",
      "  super()._check_params_vs_input(X, default_n_init=10)\n",
      "/home/sarthak/miniconda3/envs/tf/lib/python3.9/site-packages/sklearn/cluster/_kmeans.py:1412: FutureWarning: The default value of `n_init` will change from 10 to 'auto' in 1.4. Set the value of `n_init` explicitly to suppress the warning\n",
      "  super()._check_params_vs_input(X, default_n_init=10)\n",
      "/home/sarthak/miniconda3/envs/tf/lib/python3.9/site-packages/sklearn/cluster/_kmeans.py:1412: FutureWarning: The default value of `n_init` will change from 10 to 'auto' in 1.4. Set the value of `n_init` explicitly to suppress the warning\n",
      "  super()._check_params_vs_input(X, default_n_init=10)\n"
     ]
    },
    {
     "name": "stdout",
     "output_type": "stream",
     "text": [
      "[2010.0000000000007, 1460.1859230387954, 1113.4612941519729, 812.5638691818599, 661.0207565123576, 521.0575951688891, 389.10054894604116, 317.73784764958, 259.60457634085674, 224.886437117146, 191.67631532041315, 166.8047548790926, 144.6490621930794, 129.93721072003189, 115.9889677765957, 107.45893736793369, 103.6670760000569, 95.95541805782031, 90.48549408924058, 85.6992022557642, 84.30447240638046, 78.55163710411914, 75.26048635702297, 71.83935764615886, 69.14038666158338, 68.26355252772356, 65.41447809523042, 61.055280899882675, 59.70556523051104]\n"
     ]
    },
    {
     "data": {
      "image/png": "[encoded data removed]",
      "text/plain": [
       "<Figure size 640x480 with 1 Axes>"
      ]
     },
     "metadata": {},
     "output_type": "display_data"
    },
    {
     "name": "stderr",
     "output_type": "stream",
     "text": [
      "/home/sarthak/miniconda3/envs/tf/lib/python3.9/site-packages/sklearn/cluster/_kmeans.py:1412: FutureWarning: The default value of `n_init` will change from 10 to 'auto' in 1.4. Set the value of `n_init` explicitly to suppress the warning\n",
      "  super()._check_params_vs_input(X, default_n_init=10)\n"
     ]
    }
   ],
   "source": [
    "from sklearn.preprocessing import StandardScaler\n",
    "from sklearn.metrics import silhouette_score\n",
    "scaler = StandardScaler()\n",
    "scaled_data = scaler.fit_transform(player_sum)\n",
    "\n",
    "wcss = []\n",
    "for k in range(1, 30):\n",
    "    kmeans = KMeans(n_clusters=k)\n",
    "    kmeans.fit(scaled_data)\n",
    "    wcss.append(kmeans.inertia_)\n",
    "\n",
    "# Plot the elbow curve\n",
    "print(wcss)\n",
    "\n",
    "plt.plot(range(1, 30), wcss)\n",
    "plt.title('Elbow Method')\n",
    "plt.xlabel('Number of Clusters')\n",
    "plt.xlim\n",
    "plt.ylabel('WCSS')\n",
    "plt.show()\n",
    "\n",
    "# ssd = []\n",
    "# for k in range(2, 9):\n",
    "#     kmeans_model = KMeans(n_clusters=k)\n",
    "#     kmeans_model.fit(player_sum)\n",
    "#     ssd.append(kmeans_model.inertia_)\n",
    "# plt.figure(figsize=(6, 4), dpi=100)\n",
    "# plt.plot(range(2, 9), ssd, color=\"green\", marker=\"o\")\n",
    "# plt.xlabel(\"Number of clusters (K)\")\n",
    "# plt.ylabel(\"SSD for K\")\n",
    "# plt.show()\n",
    "\n",
    "\n",
    "kmeans_model = KMeans(n_clusters=9)\n",
    "clusters = kmeans_model.fit_predict(player_sum)"
   ]
  },
  {
   "cell_type": "code",
   "execution_count": 384,
   "metadata": {},
   "outputs": [],
   "source": [
    "#As from elbow graph we can see sudden change in drop at 9 clusters, thus total number of unique strategies is 9 only"
   ]
  },
  {
   "cell_type": "code",
   "execution_count": 385,
   "metadata": {},
   "outputs": [
    {
     "data": {
      "text/plain": [
       "array([0, 7, 7, 5, 0, 1, 0, 1, 3, 4, 4, 2, 3, 5, 5, 6, 1, 6, 0, 7, 4, 0,\n",
       "       5, 4, 5, 4, 0, 4, 4, 7, 1, 4, 5, 5, 1, 8, 8, 8, 0, 4, 4, 7, 1, 4,\n",
       "       2, 1, 1, 4, 4, 4, 1, 1, 8, 4, 8, 0, 0, 0, 4, 3, 1, 4, 1, 5, 8, 4,\n",
       "       7, 4, 2, 1, 4, 6, 0, 2, 4, 0, 7, 6, 7, 2, 6, 1, 4, 4, 5, 2, 0, 0,\n",
       "       0, 4, 4, 0, 7, 6, 3, 5, 5, 4, 1, 7, 2, 4, 2, 3, 5, 4, 1, 5, 4, 5,\n",
       "       5, 4, 7, 4, 5, 6, 4, 7, 4, 4, 3, 6, 4, 4, 4, 7, 1, 3, 5, 4, 0, 4,\n",
       "       1, 1, 4, 5, 6, 7, 1, 4, 8, 6, 0, 0, 6, 8, 4, 0, 7, 7, 4, 0, 4, 2,\n",
       "       0, 4, 0, 5, 0, 6, 2, 0, 4, 4, 1, 6, 8, 0, 5, 4, 2, 5, 4, 7, 3, 2,\n",
       "       1, 3, 7, 8, 0, 5, 0, 4, 0, 1, 4, 0, 8, 7, 1, 3, 3, 3, 1, 1, 0, 4,\n",
       "       2, 8, 1], dtype=int32)"
      ]
     },
     "execution_count": 385,
     "metadata": {},
     "output_type": "execute_result"
    }
   ],
   "source": [
    "clusters"
   ]
  },
  {
   "cell_type": "code",
   "execution_count": 386,
   "metadata": {},
   "outputs": [
    {
     "name": "stdout",
     "output_type": "stream",
     "text": [
      "[[0, 4, 6, 18, 21, 26, 38, 55, 56, 57, 72, 75, 86, 87, 88, 91, 130, 142, 143, 147, 151, 154, 156, 158, 161, 167, 180, 182, 184, 187, 196], [1, 2, 19, 29, 41, 66, 76, 78, 92, 99, 112, 117, 125, 137, 148, 149, 173, 178, 189], [3, 13, 14, 22, 24, 32, 33, 63, 84, 95, 96, 104, 107, 109, 110, 114, 128, 135, 157, 168, 171, 181], [5, 7, 16, 30, 34, 42, 45, 46, 50, 51, 60, 62, 69, 81, 98, 106, 126, 132, 133, 138, 164, 176, 185, 190, 194, 195, 200], [8, 12, 59, 94, 103, 120, 127, 174, 177, 191, 192, 193], [9, 10, 20, 23, 25, 27, 28, 31, 39, 40, 43, 47, 48, 49, 53, 58, 61, 65, 67, 70, 74, 82, 83, 89, 90, 97, 101, 105, 108, 111, 113, 116, 118, 119, 122, 123, 124, 129, 131, 134, 139, 146, 150, 152, 155, 162, 163, 169, 172, 183, 186, 197], [11, 44, 68, 73, 79, 85, 100, 102, 153, 160, 170, 175, 198], [15, 17, 71, 77, 80, 93, 115, 121, 136, 141, 144, 159, 165], [35, 36, 37, 52, 54, 64, 140, 145, 166, 179, 188, 199]]\n"
     ]
    }
   ],
   "source": [
    "vec = []\n",
    "for i in range(9):\n",
    "    vec.append([])\n",
    "for i in range(0,len(clusters)):\n",
    "    vec[clusters[i]].append(i)\n",
    "    \n",
    "vec.sort()\n",
    "print(vec)"
   ]
  }
 ],
 "metadata": {
  "kernelspec": {
   "display_name": "tf",
   "language": "python",
   "name": "python3"
  },
  "language_info": {
   "codemirror_mode": {
    "name": "ipython",
    "version": 3
   },
   "file_extension": ".py",
   "mimetype": "text/x-python",
   "name": "python",
   "nbconvert_exporter": "python",
   "pygments_lexer": "ipython3",
   "version": "3.9.16"
  }
 },
 "nbformat": 4,
 "nbformat_minor": 2
}
